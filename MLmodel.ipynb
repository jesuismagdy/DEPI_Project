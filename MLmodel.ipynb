{
  "cells": [
    {
      "cell_type": "code",
      "source": [
        "!pip install kaggle"
      ],
      "outputs": [
        {
          "output_type": "stream",
          "name": "stdout",
          "text": "Collecting kaggle\n  Downloading kaggle-1.6.17.tar.gz (82 kB)\n\u001b[2K     \u001b[90m━━━━━━━━━━━━━━━━━━━━━━━━━━━━━━━━━━━━━━━━\u001b[0m \u001b[32m82.7/82.7 kB\u001b[0m \u001b[31m6.7 MB/s\u001b[0m eta \u001b[36m0:00:00\u001b[0m\n\u001b[?25h  Preparing metadata (setup.py) ... \u001b[?25l-\b \b\\\b \b|\b \bdone\n\u001b[?25hRequirement already satisfied: six>=1.10 in /anaconda/envs/azureml_py38/lib/python3.10/site-packages (from kaggle) (1.16.0)\nRequirement already satisfied: certifi>=2023.7.22 in /anaconda/envs/azureml_py38/lib/python3.10/site-packages (from kaggle) (2024.8.30)\nRequirement already satisfied: python-dateutil in /anaconda/envs/azureml_py38/lib/python3.10/site-packages (from kaggle) (2.9.0.post0)\nRequirement already satisfied: requests in /anaconda/envs/azureml_py38/lib/python3.10/site-packages (from kaggle) (2.32.3)\nRequirement already satisfied: tqdm in /anaconda/envs/azureml_py38/lib/python3.10/site-packages (from kaggle) (4.66.4)\nCollecting python-slugify\n  Downloading python_slugify-8.0.4-py2.py3-none-any.whl (10 kB)\nRequirement already satisfied: urllib3 in /anaconda/envs/azureml_py38/lib/python3.10/site-packages (from kaggle) (1.26.19)\nRequirement already satisfied: bleach in /anaconda/envs/azureml_py38/lib/python3.10/site-packages (from kaggle) (6.1.0)\nRequirement already satisfied: webencodings in /anaconda/envs/azureml_py38/lib/python3.10/site-packages (from bleach->kaggle) (0.5.1)\nCollecting text-unidecode>=1.3\n  Downloading text_unidecode-1.3-py2.py3-none-any.whl (78 kB)\n\u001b[2K     \u001b[90m━━━━━━━━━━━━━━━━━━━━━━━━━━━━━━━━━━━━━━━\u001b[0m \u001b[32m78.2/78.2 kB\u001b[0m \u001b[31m365.1 kB/s\u001b[0m eta \u001b[36m0:00:00\u001b[0ma \u001b[36m0:00:01\u001b[0m\n\u001b[?25hRequirement already satisfied: charset-normalizer<4,>=2 in /anaconda/envs/azureml_py38/lib/python3.10/site-packages (from requests->kaggle) (3.3.2)\nRequirement already satisfied: idna<4,>=2.5 in /anaconda/envs/azureml_py38/lib/python3.10/site-packages (from requests->kaggle) (3.7)\nBuilding wheels for collected packages: kaggle\n  Building wheel for kaggle (setup.py) ... \u001b[?25l-\b \b\\\b \b|\b \b/\b \b-\b \bdone\n\u001b[?25h  Created wheel for kaggle: filename=kaggle-1.6.17-py3-none-any.whl size=105786 sha256=d77a0317b1886ce270e1565c870fecc20ee6cb2e89966fed5612c3223a5941f8\n  Stored in directory: /home/azureuser/.cache/pip/wheels/14/e4/0d/a3409c4d5ec4fcc54cdd5713cacfcdcff6125e9d5392d7cd92\nSuccessfully built kaggle\nInstalling collected packages: text-unidecode, python-slugify, kaggle\nSuccessfully installed kaggle-1.6.17 python-slugify-8.0.4 text-unidecode-1.3\n"
        }
      ],
      "execution_count": 2,
      "metadata": {
        "gather": {
          "logged": 1729436514594
        }
      }
    },
    {
      "cell_type": "code",
      "source": [
        "!pip install pandas numpy seaborn matplotlib scipy scikit-learn\n"
      ],
      "outputs": [
        {
          "output_type": "stream",
          "name": "stdout",
          "text": "Requirement already satisfied: pandas in /anaconda/envs/azureml_py38/lib/python3.10/site-packages (1.3.5)\nRequirement already satisfied: numpy in /anaconda/envs/azureml_py38/lib/python3.10/site-packages (1.23.5)\nRequirement already satisfied: seaborn in /anaconda/envs/azureml_py38/lib/python3.10/site-packages (0.13.2)\nRequirement already satisfied: matplotlib in /anaconda/envs/azureml_py38/lib/python3.10/site-packages (3.6.3)\nRequirement already satisfied: scipy in /anaconda/envs/azureml_py38/lib/python3.10/site-packages (1.10.1)\nRequirement already satisfied: scikit-learn in /anaconda/envs/azureml_py38/lib/python3.10/site-packages (1.5.1)\nRequirement already satisfied: pytz>=2017.3 in /anaconda/envs/azureml_py38/lib/python3.10/site-packages (from pandas) (2022.5)\nRequirement already satisfied: python-dateutil>=2.7.3 in /anaconda/envs/azureml_py38/lib/python3.10/site-packages (from pandas) (2.9.0.post0)\nRequirement already satisfied: pyparsing>=2.2.1 in /anaconda/envs/azureml_py38/lib/python3.10/site-packages (from matplotlib) (3.1.2)\nRequirement already satisfied: fonttools>=4.22.0 in /anaconda/envs/azureml_py38/lib/python3.10/site-packages (from matplotlib) (4.51.0)\nRequirement already satisfied: pillow>=6.2.0 in /anaconda/envs/azureml_py38/lib/python3.10/site-packages (from matplotlib) (9.2.0)\nRequirement already satisfied: packaging>=20.0 in /anaconda/envs/azureml_py38/lib/python3.10/site-packages (from matplotlib) (24.1)\nRequirement already satisfied: cycler>=0.10 in /anaconda/envs/azureml_py38/lib/python3.10/site-packages (from matplotlib) (0.12.1)\nRequirement already satisfied: contourpy>=1.0.1 in /anaconda/envs/azureml_py38/lib/python3.10/site-packages (from matplotlib) (1.2.1)\nRequirement already satisfied: kiwisolver>=1.0.1 in /anaconda/envs/azureml_py38/lib/python3.10/site-packages (from matplotlib) (1.4.5)\nRequirement already satisfied: threadpoolctl>=3.1.0 in /anaconda/envs/azureml_py38/lib/python3.10/site-packages (from scikit-learn) (3.5.0)\nRequirement already satisfied: joblib>=1.2.0 in /anaconda/envs/azureml_py38/lib/python3.10/site-packages (from scikit-learn) (1.2.0)\nRequirement already satisfied: six>=1.5 in /anaconda/envs/azureml_py38/lib/python3.10/site-packages (from python-dateutil>=2.7.3->pandas) (1.16.0)\n"
        }
      ],
      "execution_count": 4,
      "metadata": {
        "jupyter": {
          "source_hidden": false,
          "outputs_hidden": false
        },
        "nteract": {
          "transient": {
            "deleting": false
          }
        },
        "gather": {
          "logged": 1729436755311
        }
      }
    },
    {
      "cell_type": "code",
      "source": [
        "import pandas as pd\n",
        "import numpy as np\n",
        "import matplotlib.pyplot as plt\n",
        "import warnings\n",
        "import scipy.stats as stats\n",
        "\n",
        "warnings.filterwarnings('ignore')\n",
        "warnings.filterwarnings(\"ignore\", message=\"A NumPy version >=1.16.5 and <1.23.0 is required for this version of SciPy\")\n",
        "\n",
        "from sklearn.preprocessing import MinMaxScaler\n",
        "from sklearn.model_selection import train_test_split\n",
        "from sklearn.preprocessing import StandardScaler, OneHotEncoder\n",
        "from sklearn.compose import ColumnTransformer\n",
        "from sklearn.pipeline import Pipeline\n",
        "from sklearn.linear_model import LinearRegression\n",
        "from sklearn.tree import DecisionTreeRegressor\n",
        "from sklearn.ensemble import RandomForestRegressor\n",
        "from sklearn.metrics import mean_squared_error, r2_score, mean_absolute_error\n",
        "from sklearn.impute import SimpleImputer"
      ],
      "outputs": [],
      "execution_count": 7,
      "metadata": {
        "jupyter": {
          "source_hidden": false,
          "outputs_hidden": false
        },
        "nteract": {
          "transient": {
            "deleting": false
          }
        },
        "gather": {
          "logged": 1729437078946
        }
      }
    },
    {
      "cell_type": "code",
      "source": [
        "\n",
        "import mltable\n",
        "from azure.ai.ml import MLClient\n",
        "from azure.identity import DefaultAzureCredential\n",
        "\n",
        "ml_client = MLClient.from_config(credential=DefaultAzureCredential())\n",
        "data_asset = ml_client.data.get(\"super\", version=\"1\")\n",
        "\n",
        "tbl = mltable.load(f'azureml:/{data_asset.id}')\n",
        "\n",
        "df = tbl.to_pandas_dataframe()\n",
        "df"
      ],
      "outputs": [
        {
          "output_type": "stream",
          "name": "stderr",
          "text": "Found the config file in: /config.json\n"
        },
        {
          "output_type": "execute_result",
          "execution_count": 23,
          "data": {
            "text/plain": "      Row_ID        Order_ID Order_Date  Ship_Date       Ship_Mode  \\\n0          1  CA-2017-152156 2017-11-08 2017-11-11    Second Class   \n1          2  CA-2017-152156 2017-11-08 2017-11-11    Second Class   \n2          3  CA-2017-138688 2017-06-12 2017-06-16    Second Class   \n3          4  US-2016-108966 2016-10-11 2016-10-18  Standard Class   \n4          5  US-2016-108966 2016-10-11 2016-10-18  Standard Class   \n...      ...             ...        ...        ...             ...   \n9795    9796  CA-2017-125920 2017-05-21 2017-05-28  Standard Class   \n9796    9797  CA-2016-128608 2016-01-12 2016-01-17  Standard Class   \n9797    9798  CA-2016-128608 2016-01-12 2016-01-17  Standard Class   \n9798    9799  CA-2016-128608 2016-01-12 2016-01-17  Standard Class   \n9799    9800  CA-2016-128608 2016-01-12 2016-01-17  Standard Class   \n\n     Customer_ID     Customer_Name    Segment        Country             City  \\\n0       CG-12520       Claire Gute   Consumer  United States        Henderson   \n1       CG-12520       Claire Gute   Consumer  United States        Henderson   \n2       DV-13045   Darrin Van Huff  Corporate  United States      Los Angeles   \n3       SO-20335     Sean O Donnel   Consumer  United States  Fort Lauderdale   \n4       SO-20335     Sean O Donnel   Consumer  United States  Fort Lauderdale   \n...          ...               ...        ...            ...              ...   \n9795    SH-19975     Sally Hughsby  Corporate  United States          Chicago   \n9796    CS-12490  Cindy Schnelling  Corporate  United States           Toledo   \n9797    CS-12490  Cindy Schnelling  Corporate  United States           Toledo   \n9798    CS-12490  Cindy Schnelling  Corporate  United States           Toledo   \n9799    CS-12490  Cindy Schnelling  Corporate  United States           Toledo   \n\n           State  Postal_Code   Region       Product_ID         Category  \\\n0       Kentucky      42420.0    South  FUR-BO-10001798        Furniture   \n1       Kentucky      42420.0    South  FUR-CH-10000454        Furniture   \n2     California      90036.0     West  OFF-LA-10000240  Office Supplies   \n3        Florida      33311.0    South  FUR-TA-10000577        Furniture   \n4        Florida      33311.0    South  OFF-ST-10000760  Office Supplies   \n...          ...          ...      ...              ...              ...   \n9795    Illinois      60610.0  Central  OFF-BI-10003429  Office Supplies   \n9796        Ohio      43615.0     East  OFF-AR-10001374  Office Supplies   \n9797        Ohio      43615.0     East  TEC-PH-10004977       Technology   \n9798        Ohio      43615.0     East  TEC-PH-10000912       Technology   \n9799        Ohio      43615.0     East  TEC-AC-10000487       Technology   \n\n     Sub_Category                                       Product_Name     Sales  \n0       Bookcases                  Bush Somerset Collection Bookcase  261.9600  \n1          Chairs  Hon Deluxe Fabric Upholstered Stacking Chairs,...  731.9400  \n2          Labels  Self-Adhesive Address Labels for Typewriters b...   14.6200  \n3          Tables      Bretford CR4500 Series Slim Rectangular Table  957.5775  \n4         Storage                      Eldon Fold N Roll Cart System   22.3680  \n...           ...                                                ...       ...  \n9795      Binders  Cardinal HOLDit! Binder Insert Strips,Extra St...    3.7980  \n9796          Art           BIC Brite Liner Highlighters, Chisel Tip   10.3680  \n9797       Phones                                        GE 30524EE4  235.1880  \n9798       Phones           Anker 24W Portable Micro USB Car Charger   26.3760  \n9799  Accessories                SanDisk Cruzer 4 GB USB Flash Drive   10.3840  \n\n[9800 rows x 18 columns]",
            "text/html": "<div>\n<style scoped>\n    .dataframe tbody tr th:only-of-type {\n        vertical-align: middle;\n    }\n\n    .dataframe tbody tr th {\n        vertical-align: top;\n    }\n\n    .dataframe thead th {\n        text-align: right;\n    }\n</style>\n<table border=\"1\" class=\"dataframe\">\n  <thead>\n    <tr style=\"text-align: right;\">\n      <th></th>\n      <th>Row_ID</th>\n      <th>Order_ID</th>\n      <th>Order_Date</th>\n      <th>Ship_Date</th>\n      <th>Ship_Mode</th>\n      <th>Customer_ID</th>\n      <th>Customer_Name</th>\n      <th>Segment</th>\n      <th>Country</th>\n      <th>City</th>\n      <th>State</th>\n      <th>Postal_Code</th>\n      <th>Region</th>\n      <th>Product_ID</th>\n      <th>Category</th>\n      <th>Sub_Category</th>\n      <th>Product_Name</th>\n      <th>Sales</th>\n    </tr>\n  </thead>\n  <tbody>\n    <tr>\n      <th>0</th>\n      <td>1</td>\n      <td>CA-2017-152156</td>\n      <td>2017-11-08</td>\n      <td>2017-11-11</td>\n      <td>Second Class</td>\n      <td>CG-12520</td>\n      <td>Claire Gute</td>\n      <td>Consumer</td>\n      <td>United States</td>\n      <td>Henderson</td>\n      <td>Kentucky</td>\n      <td>42420.0</td>\n      <td>South</td>\n      <td>FUR-BO-10001798</td>\n      <td>Furniture</td>\n      <td>Bookcases</td>\n      <td>Bush Somerset Collection Bookcase</td>\n      <td>261.9600</td>\n    </tr>\n    <tr>\n      <th>1</th>\n      <td>2</td>\n      <td>CA-2017-152156</td>\n      <td>2017-11-08</td>\n      <td>2017-11-11</td>\n      <td>Second Class</td>\n      <td>CG-12520</td>\n      <td>Claire Gute</td>\n      <td>Consumer</td>\n      <td>United States</td>\n      <td>Henderson</td>\n      <td>Kentucky</td>\n      <td>42420.0</td>\n      <td>South</td>\n      <td>FUR-CH-10000454</td>\n      <td>Furniture</td>\n      <td>Chairs</td>\n      <td>Hon Deluxe Fabric Upholstered Stacking Chairs,...</td>\n      <td>731.9400</td>\n    </tr>\n    <tr>\n      <th>2</th>\n      <td>3</td>\n      <td>CA-2017-138688</td>\n      <td>2017-06-12</td>\n      <td>2017-06-16</td>\n      <td>Second Class</td>\n      <td>DV-13045</td>\n      <td>Darrin Van Huff</td>\n      <td>Corporate</td>\n      <td>United States</td>\n      <td>Los Angeles</td>\n      <td>California</td>\n      <td>90036.0</td>\n      <td>West</td>\n      <td>OFF-LA-10000240</td>\n      <td>Office Supplies</td>\n      <td>Labels</td>\n      <td>Self-Adhesive Address Labels for Typewriters b...</td>\n      <td>14.6200</td>\n    </tr>\n    <tr>\n      <th>3</th>\n      <td>4</td>\n      <td>US-2016-108966</td>\n      <td>2016-10-11</td>\n      <td>2016-10-18</td>\n      <td>Standard Class</td>\n      <td>SO-20335</td>\n      <td>Sean O Donnel</td>\n      <td>Consumer</td>\n      <td>United States</td>\n      <td>Fort Lauderdale</td>\n      <td>Florida</td>\n      <td>33311.0</td>\n      <td>South</td>\n      <td>FUR-TA-10000577</td>\n      <td>Furniture</td>\n      <td>Tables</td>\n      <td>Bretford CR4500 Series Slim Rectangular Table</td>\n      <td>957.5775</td>\n    </tr>\n    <tr>\n      <th>4</th>\n      <td>5</td>\n      <td>US-2016-108966</td>\n      <td>2016-10-11</td>\n      <td>2016-10-18</td>\n      <td>Standard Class</td>\n      <td>SO-20335</td>\n      <td>Sean O Donnel</td>\n      <td>Consumer</td>\n      <td>United States</td>\n      <td>Fort Lauderdale</td>\n      <td>Florida</td>\n      <td>33311.0</td>\n      <td>South</td>\n      <td>OFF-ST-10000760</td>\n      <td>Office Supplies</td>\n      <td>Storage</td>\n      <td>Eldon Fold N Roll Cart System</td>\n      <td>22.3680</td>\n    </tr>\n    <tr>\n      <th>...</th>\n      <td>...</td>\n      <td>...</td>\n      <td>...</td>\n      <td>...</td>\n      <td>...</td>\n      <td>...</td>\n      <td>...</td>\n      <td>...</td>\n      <td>...</td>\n      <td>...</td>\n      <td>...</td>\n      <td>...</td>\n      <td>...</td>\n      <td>...</td>\n      <td>...</td>\n      <td>...</td>\n      <td>...</td>\n      <td>...</td>\n    </tr>\n    <tr>\n      <th>9795</th>\n      <td>9796</td>\n      <td>CA-2017-125920</td>\n      <td>2017-05-21</td>\n      <td>2017-05-28</td>\n      <td>Standard Class</td>\n      <td>SH-19975</td>\n      <td>Sally Hughsby</td>\n      <td>Corporate</td>\n      <td>United States</td>\n      <td>Chicago</td>\n      <td>Illinois</td>\n      <td>60610.0</td>\n      <td>Central</td>\n      <td>OFF-BI-10003429</td>\n      <td>Office Supplies</td>\n      <td>Binders</td>\n      <td>Cardinal HOLDit! Binder Insert Strips,Extra St...</td>\n      <td>3.7980</td>\n    </tr>\n    <tr>\n      <th>9796</th>\n      <td>9797</td>\n      <td>CA-2016-128608</td>\n      <td>2016-01-12</td>\n      <td>2016-01-17</td>\n      <td>Standard Class</td>\n      <td>CS-12490</td>\n      <td>Cindy Schnelling</td>\n      <td>Corporate</td>\n      <td>United States</td>\n      <td>Toledo</td>\n      <td>Ohio</td>\n      <td>43615.0</td>\n      <td>East</td>\n      <td>OFF-AR-10001374</td>\n      <td>Office Supplies</td>\n      <td>Art</td>\n      <td>BIC Brite Liner Highlighters, Chisel Tip</td>\n      <td>10.3680</td>\n    </tr>\n    <tr>\n      <th>9797</th>\n      <td>9798</td>\n      <td>CA-2016-128608</td>\n      <td>2016-01-12</td>\n      <td>2016-01-17</td>\n      <td>Standard Class</td>\n      <td>CS-12490</td>\n      <td>Cindy Schnelling</td>\n      <td>Corporate</td>\n      <td>United States</td>\n      <td>Toledo</td>\n      <td>Ohio</td>\n      <td>43615.0</td>\n      <td>East</td>\n      <td>TEC-PH-10004977</td>\n      <td>Technology</td>\n      <td>Phones</td>\n      <td>GE 30524EE4</td>\n      <td>235.1880</td>\n    </tr>\n    <tr>\n      <th>9798</th>\n      <td>9799</td>\n      <td>CA-2016-128608</td>\n      <td>2016-01-12</td>\n      <td>2016-01-17</td>\n      <td>Standard Class</td>\n      <td>CS-12490</td>\n      <td>Cindy Schnelling</td>\n      <td>Corporate</td>\n      <td>United States</td>\n      <td>Toledo</td>\n      <td>Ohio</td>\n      <td>43615.0</td>\n      <td>East</td>\n      <td>TEC-PH-10000912</td>\n      <td>Technology</td>\n      <td>Phones</td>\n      <td>Anker 24W Portable Micro USB Car Charger</td>\n      <td>26.3760</td>\n    </tr>\n    <tr>\n      <th>9799</th>\n      <td>9800</td>\n      <td>CA-2016-128608</td>\n      <td>2016-01-12</td>\n      <td>2016-01-17</td>\n      <td>Standard Class</td>\n      <td>CS-12490</td>\n      <td>Cindy Schnelling</td>\n      <td>Corporate</td>\n      <td>United States</td>\n      <td>Toledo</td>\n      <td>Ohio</td>\n      <td>43615.0</td>\n      <td>East</td>\n      <td>TEC-AC-10000487</td>\n      <td>Technology</td>\n      <td>Accessories</td>\n      <td>SanDisk Cruzer 4 GB USB Flash Drive</td>\n      <td>10.3840</td>\n    </tr>\n  </tbody>\n</table>\n<p>9800 rows × 18 columns</p>\n</div>"
          },
          "metadata": {}
        }
      ],
      "execution_count": 23,
      "metadata": {
        "jupyter": {
          "source_hidden": false,
          "outputs_hidden": false
        },
        "nteract": {
          "transient": {
            "deleting": false
          }
        },
        "gather": {
          "logged": 1729438434797
        }
      }
    },
    {
      "cell_type": "code",
      "source": [
        "df.info()"
      ],
      "outputs": [
        {
          "output_type": "stream",
          "name": "stdout",
          "text": "<class 'pandas.core.frame.DataFrame'>\nRangeIndex: 9800 entries, 0 to 9799\nData columns (total 18 columns):\n #   Column         Non-Null Count  Dtype         \n---  ------         --------------  -----         \n 0   Row_ID         9800 non-null   int64         \n 1   Order_ID       9800 non-null   object        \n 2   Order_Date     9800 non-null   datetime64[ns]\n 3   Ship_Date      9800 non-null   datetime64[ns]\n 4   Ship_Mode      9800 non-null   object        \n 5   Customer_ID    9800 non-null   object        \n 6   Customer_Name  9800 non-null   object        \n 7   Segment        9800 non-null   object        \n 8   Country        9800 non-null   object        \n 9   City           9800 non-null   object        \n 10  State          9800 non-null   object        \n 11  Postal_Code    9789 non-null   float64       \n 12  Region         9800 non-null   object        \n 13  Product_ID     9800 non-null   object        \n 14  Category       9800 non-null   object        \n 15  Sub_Category   9800 non-null   object        \n 16  Product_Name   9800 non-null   object        \n 17  Sales          9800 non-null   float64       \ndtypes: datetime64[ns](2), float64(2), int64(1), object(13)\nmemory usage: 1.3+ MB\n"
        }
      ],
      "execution_count": 24,
      "metadata": {
        "jupyter": {
          "source_hidden": false,
          "outputs_hidden": false
        },
        "nteract": {
          "transient": {
            "deleting": false
          }
        },
        "gather": {
          "logged": 1729438559653
        }
      }
    },
    {
      "cell_type": "code",
      "source": [
        "df.describe()"
      ],
      "outputs": [
        {
          "output_type": "execute_result",
          "execution_count": 25,
          "data": {
            "text/plain": "            Row_ID                     Order_Date  \\\ncount  9800.000000                           9800   \nmean   4900.500000  2017-05-01 05:13:51.673469440   \nmin       1.000000            2015-01-03 00:00:00   \n25%    2450.750000            2016-05-24 00:00:00   \n50%    4900.500000            2017-06-26 00:00:00   \n75%    7350.250000            2018-05-15 00:00:00   \nmax    9800.000000            2018-12-30 00:00:00   \nstd    2829.160653                            NaN   \n\n                           Ship_Date   Postal_Code         Sales  \ncount                           9800   9789.000000   9800.000000  \nmean   2017-05-05 04:17:52.653061120  55273.322403    230.769059  \nmin              2015-01-07 00:00:00   1040.000000      0.444000  \n25%              2016-05-27 18:00:00  23223.000000     17.248000  \n50%              2017-06-29 00:00:00  58103.000000     54.490000  \n75%              2018-05-19 00:00:00  90008.000000    210.605000  \nmax              2019-01-05 00:00:00  99301.000000  22638.480000  \nstd                              NaN  32041.223413    626.651875  ",
            "text/html": "<div>\n<style scoped>\n    .dataframe tbody tr th:only-of-type {\n        vertical-align: middle;\n    }\n\n    .dataframe tbody tr th {\n        vertical-align: top;\n    }\n\n    .dataframe thead th {\n        text-align: right;\n    }\n</style>\n<table border=\"1\" class=\"dataframe\">\n  <thead>\n    <tr style=\"text-align: right;\">\n      <th></th>\n      <th>Row_ID</th>\n      <th>Order_Date</th>\n      <th>Ship_Date</th>\n      <th>Postal_Code</th>\n      <th>Sales</th>\n    </tr>\n  </thead>\n  <tbody>\n    <tr>\n      <th>count</th>\n      <td>9800.000000</td>\n      <td>9800</td>\n      <td>9800</td>\n      <td>9789.000000</td>\n      <td>9800.000000</td>\n    </tr>\n    <tr>\n      <th>mean</th>\n      <td>4900.500000</td>\n      <td>2017-05-01 05:13:51.673469440</td>\n      <td>2017-05-05 04:17:52.653061120</td>\n      <td>55273.322403</td>\n      <td>230.769059</td>\n    </tr>\n    <tr>\n      <th>min</th>\n      <td>1.000000</td>\n      <td>2015-01-03 00:00:00</td>\n      <td>2015-01-07 00:00:00</td>\n      <td>1040.000000</td>\n      <td>0.444000</td>\n    </tr>\n    <tr>\n      <th>25%</th>\n      <td>2450.750000</td>\n      <td>2016-05-24 00:00:00</td>\n      <td>2016-05-27 18:00:00</td>\n      <td>23223.000000</td>\n      <td>17.248000</td>\n    </tr>\n    <tr>\n      <th>50%</th>\n      <td>4900.500000</td>\n      <td>2017-06-26 00:00:00</td>\n      <td>2017-06-29 00:00:00</td>\n      <td>58103.000000</td>\n      <td>54.490000</td>\n    </tr>\n    <tr>\n      <th>75%</th>\n      <td>7350.250000</td>\n      <td>2018-05-15 00:00:00</td>\n      <td>2018-05-19 00:00:00</td>\n      <td>90008.000000</td>\n      <td>210.605000</td>\n    </tr>\n    <tr>\n      <th>max</th>\n      <td>9800.000000</td>\n      <td>2018-12-30 00:00:00</td>\n      <td>2019-01-05 00:00:00</td>\n      <td>99301.000000</td>\n      <td>22638.480000</td>\n    </tr>\n    <tr>\n      <th>std</th>\n      <td>2829.160653</td>\n      <td>NaN</td>\n      <td>NaN</td>\n      <td>32041.223413</td>\n      <td>626.651875</td>\n    </tr>\n  </tbody>\n</table>\n</div>"
          },
          "metadata": {}
        }
      ],
      "execution_count": 25,
      "metadata": {
        "jupyter": {
          "source_hidden": false,
          "outputs_hidden": false
        },
        "nteract": {
          "transient": {
            "deleting": false
          }
        },
        "gather": {
          "logged": 1729438577638
        }
      }
    },
    {
      "cell_type": "code",
      "source": [
        "duplicated = df.duplicated().sum()\n",
        "print(duplicated)"
      ],
      "outputs": [
        {
          "output_type": "stream",
          "name": "stdout",
          "text": "0\n"
        }
      ],
      "execution_count": 26,
      "metadata": {
        "jupyter": {
          "source_hidden": false,
          "outputs_hidden": false
        },
        "nteract": {
          "transient": {
            "deleting": false
          }
        },
        "gather": {
          "logged": 1729438591346
        }
      }
    },
    {
      "cell_type": "code",
      "source": [
        "missing_values = df.isnull().sum()\n",
        "total_missing_values = (missing_values).sum()\n",
        "total_cells = np.product(df.shape)\n",
        "percent_missing = (total_missing_values/total_cells) * 100\n",
        "print(\"Percent of data that is missing :\", percent_missing)\n",
        "print(missing_values)"
      ],
      "outputs": [
        {
          "output_type": "stream",
          "name": "stdout",
          "text": "Percent of data that is missing : 0.006235827664399093\nRow_ID            0\nOrder_ID          0\nOrder_Date        0\nShip_Date         0\nShip_Mode         0\nCustomer_ID       0\nCustomer_Name     0\nSegment           0\nCountry           0\nCity              0\nState             0\nPostal_Code      11\nRegion            0\nProduct_ID        0\nCategory          0\nSub_Category      0\nProduct_Name      0\nSales             0\ndtype: int64\n"
        }
      ],
      "execution_count": 27,
      "metadata": {
        "jupyter": {
          "source_hidden": false,
          "outputs_hidden": false
        },
        "nteract": {
          "transient": {
            "deleting": false
          }
        },
        "gather": {
          "logged": 1729438676491
        }
      }
    },
    {
      "cell_type": "code",
      "source": [
        "df.dropna(inplace=True)"
      ],
      "outputs": [],
      "execution_count": 28,
      "metadata": {
        "jupyter": {
          "source_hidden": false,
          "outputs_hidden": false
        },
        "nteract": {
          "transient": {
            "deleting": false
          }
        },
        "gather": {
          "logged": 1729438704917
        }
      }
    },
    {
      "cell_type": "code",
      "source": [
        "for column in df.columns:\n",
        "    num_distinct_values = len(df[column].unique())\n",
        "    print(f\"{column}: {num_distinct_values} distinct values\")"
      ],
      "outputs": [
        {
          "output_type": "stream",
          "name": "stdout",
          "text": "Row_ID: 9789 distinct values\nOrder_ID: 4916 distinct values\nOrder_Date: 1229 distinct values\nShip_Date: 1326 distinct values\nShip_Mode: 4 distinct values\nCustomer_ID: 793 distinct values\nCustomer_Name: 793 distinct values\nSegment: 3 distinct values\nCountry: 1 distinct values\nCity: 529 distinct values\nState: 48 distinct values\nPostal_Code: 626 distinct values\nRegion: 4 distinct values\nProduct_ID: 1860 distinct values\nCategory: 3 distinct values\nSub_Category: 17 distinct values\nProduct_Name: 1848 distinct values\nSales: 5750 distinct values\n"
        }
      ],
      "execution_count": 29,
      "metadata": {
        "jupyter": {
          "source_hidden": false,
          "outputs_hidden": false
        },
        "nteract": {
          "transient": {
            "deleting": false
          }
        },
        "gather": {
          "logged": 1729438814930
        }
      }
    },
    {
      "cell_type": "code",
      "source": [
        "df['Sales'] = df['Sales'].astype(int)\n",
        "\n",
        "# Change the type of 'Order_Date' and 'Ship_Date'\n",
        "df['Order_Date'] = pd.to_datetime(df['Order_Date'])\n",
        "df['Ship_Date'] = pd.to_datetime(df['Ship_Date'])\n",
        "\n",
        "df['year_order_date'] = df['Order_Date'].dt.year\n",
        "df['month_order_date'] = df['Order_Date'].dt.month\n",
        "df['weekday_order_date'] = df['Order_Date'].dt.weekday\n",
        "\n",
        "df['year_ship_date'] = df['Ship_Date'].dt.year\n",
        "df['month_ship_date'] = df['Ship_Date'].dt.month\n",
        "df['weekday_ship_date'] = df['Ship_Date'].dt.weekday"
      ],
      "outputs": [],
      "execution_count": 30,
      "metadata": {
        "jupyter": {
          "source_hidden": false,
          "outputs_hidden": false
        },
        "nteract": {
          "transient": {
            "deleting": false
          }
        },
        "gather": {
          "logged": 1729438836871
        }
      }
    },
    {
      "cell_type": "code",
      "source": [
        "\n",
        "numeric_columns = df.select_dtypes(include=[np.number])\n",
        "correlation_matrix = numeric_columns.corr()\n",
        "correlation_matrix"
      ],
      "outputs": [
        {
          "output_type": "execute_result",
          "execution_count": 31,
          "data": {
            "text/plain": "                      Row_ID  Postal_Code     Sales  year_order_date  \\\nRow_ID              1.000000     0.013645 -0.000436         0.018441   \nPostal_Code         0.013645     1.000000 -0.024056         0.006418   \nSales              -0.000436    -0.024056  1.000000        -0.010189   \nyear_order_date     0.018441     0.006418 -0.010189         1.000000   \nmonth_order_date   -0.012440     0.021685 -0.000430        -0.017187   \nweekday_order_date -0.001107    -0.022497  0.002549         0.038880   \nyear_ship_date      0.018796     0.007032 -0.011401         0.994087   \nmonth_ship_date    -0.015075     0.017511  0.003651        -0.004233   \nweekday_ship_date  -0.005239    -0.022797 -0.000342        -0.032476   \n\n                    month_order_date  weekday_order_date  year_ship_date  \\\nRow_ID                     -0.012440           -0.001107        0.018796   \nPostal_Code                 0.021685           -0.022497        0.007032   \nSales                      -0.000430            0.002549       -0.011401   \nyear_order_date            -0.017187            0.038880        0.994087   \nmonth_order_date            1.000000            0.035204        0.000070   \nweekday_order_date          0.035204            1.000000        0.041432   \nyear_ship_date              0.000070            0.041432        1.000000   \nmonth_ship_date             0.911448            0.022323       -0.031593   \nweekday_ship_date          -0.022631           -0.111746       -0.035474   \n\n                    month_ship_date  weekday_ship_date  \nRow_ID                    -0.015075          -0.005239  \nPostal_Code                0.017511          -0.022797  \nSales                      0.003651          -0.000342  \nyear_order_date           -0.004233          -0.032476  \nmonth_order_date           0.911448          -0.022631  \nweekday_order_date         0.022323          -0.111746  \nyear_ship_date            -0.031593          -0.035474  \nmonth_ship_date            1.000000          -0.007665  \nweekday_ship_date         -0.007665           1.000000  ",
            "text/html": "<div>\n<style scoped>\n    .dataframe tbody tr th:only-of-type {\n        vertical-align: middle;\n    }\n\n    .dataframe tbody tr th {\n        vertical-align: top;\n    }\n\n    .dataframe thead th {\n        text-align: right;\n    }\n</style>\n<table border=\"1\" class=\"dataframe\">\n  <thead>\n    <tr style=\"text-align: right;\">\n      <th></th>\n      <th>Row_ID</th>\n      <th>Postal_Code</th>\n      <th>Sales</th>\n      <th>year_order_date</th>\n      <th>month_order_date</th>\n      <th>weekday_order_date</th>\n      <th>year_ship_date</th>\n      <th>month_ship_date</th>\n      <th>weekday_ship_date</th>\n    </tr>\n  </thead>\n  <tbody>\n    <tr>\n      <th>Row_ID</th>\n      <td>1.000000</td>\n      <td>0.013645</td>\n      <td>-0.000436</td>\n      <td>0.018441</td>\n      <td>-0.012440</td>\n      <td>-0.001107</td>\n      <td>0.018796</td>\n      <td>-0.015075</td>\n      <td>-0.005239</td>\n    </tr>\n    <tr>\n      <th>Postal_Code</th>\n      <td>0.013645</td>\n      <td>1.000000</td>\n      <td>-0.024056</td>\n      <td>0.006418</td>\n      <td>0.021685</td>\n      <td>-0.022497</td>\n      <td>0.007032</td>\n      <td>0.017511</td>\n      <td>-0.022797</td>\n    </tr>\n    <tr>\n      <th>Sales</th>\n      <td>-0.000436</td>\n      <td>-0.024056</td>\n      <td>1.000000</td>\n      <td>-0.010189</td>\n      <td>-0.000430</td>\n      <td>0.002549</td>\n      <td>-0.011401</td>\n      <td>0.003651</td>\n      <td>-0.000342</td>\n    </tr>\n    <tr>\n      <th>year_order_date</th>\n      <td>0.018441</td>\n      <td>0.006418</td>\n      <td>-0.010189</td>\n      <td>1.000000</td>\n      <td>-0.017187</td>\n      <td>0.038880</td>\n      <td>0.994087</td>\n      <td>-0.004233</td>\n      <td>-0.032476</td>\n    </tr>\n    <tr>\n      <th>month_order_date</th>\n      <td>-0.012440</td>\n      <td>0.021685</td>\n      <td>-0.000430</td>\n      <td>-0.017187</td>\n      <td>1.000000</td>\n      <td>0.035204</td>\n      <td>0.000070</td>\n      <td>0.911448</td>\n      <td>-0.022631</td>\n    </tr>\n    <tr>\n      <th>weekday_order_date</th>\n      <td>-0.001107</td>\n      <td>-0.022497</td>\n      <td>0.002549</td>\n      <td>0.038880</td>\n      <td>0.035204</td>\n      <td>1.000000</td>\n      <td>0.041432</td>\n      <td>0.022323</td>\n      <td>-0.111746</td>\n    </tr>\n    <tr>\n      <th>year_ship_date</th>\n      <td>0.018796</td>\n      <td>0.007032</td>\n      <td>-0.011401</td>\n      <td>0.994087</td>\n      <td>0.000070</td>\n      <td>0.041432</td>\n      <td>1.000000</td>\n      <td>-0.031593</td>\n      <td>-0.035474</td>\n    </tr>\n    <tr>\n      <th>month_ship_date</th>\n      <td>-0.015075</td>\n      <td>0.017511</td>\n      <td>0.003651</td>\n      <td>-0.004233</td>\n      <td>0.911448</td>\n      <td>0.022323</td>\n      <td>-0.031593</td>\n      <td>1.000000</td>\n      <td>-0.007665</td>\n    </tr>\n    <tr>\n      <th>weekday_ship_date</th>\n      <td>-0.005239</td>\n      <td>-0.022797</td>\n      <td>-0.000342</td>\n      <td>-0.032476</td>\n      <td>-0.022631</td>\n      <td>-0.111746</td>\n      <td>-0.035474</td>\n      <td>-0.007665</td>\n      <td>1.000000</td>\n    </tr>\n  </tbody>\n</table>\n</div>"
          },
          "metadata": {}
        }
      ],
      "execution_count": 31,
      "metadata": {
        "jupyter": {
          "source_hidden": false,
          "outputs_hidden": false
        },
        "nteract": {
          "transient": {
            "deleting": false
          }
        },
        "gather": {
          "logged": 1729438856805
        }
      }
    },
    {
      "cell_type": "code",
      "source": [
        "\n",
        "\n",
        "rmse_results = {}\n",
        "mae_results = {}\n",
        "r2score_results = {}\n",
        "\n",
        "X = df.drop(columns=['Sales'])\n",
        "y = df['Sales']\n",
        "\n",
        "# Split the data into training and testing sets\n",
        "X_train, X_test, y_train, y_test = train_test_split(X, y, test_size=0.2, random_state=42)\n",
        "\n",
        "# Preprocessing steps for numeric and categorical features\n",
        "numeric_features = X_train.select_dtypes(include=[np.number]).columns.tolist()\n",
        "categorical_features = X_train.select_dtypes(include=['object']).columns.tolist()\n",
        "\n",
        "numeric_transformer = Pipeline(steps=[\n",
        "    ('imputer', SimpleImputer(strategy='mean')),\n",
        "    ('scaler', StandardScaler())\n",
        "])\n",
        "\n",
        "categorical_transformer = Pipeline(steps=[\n",
        "    ('imputer', SimpleImputer(strategy='most_frequent')),\n",
        "    ('encoder', OneHotEncoder(handle_unknown='ignore'))\n",
        "])\n",
        "\n",
        "preprocessor = ColumnTransformer(transformers=[\n",
        "    ('num', numeric_transformer, numeric_features),\n",
        "    ('cat', categorical_transformer, categorical_features)\n",
        "])\n",
        "\n",
        "\n",
        "models = {\n",
        "    'Linear Regression': LinearRegression(),\n",
        "    'Decision Tree': DecisionTreeRegressor(random_state=42),\n",
        "    'Random Forest': RandomForestRegressor(random_state=42)\n",
        "}\n",
        "\n",
        "results = {}\n",
        "\n",
        "for model_name, model in models.items():\n",
        "    # Create a pipeline\n",
        "    model_pipeline = Pipeline(steps=[\n",
        "        ('preprocessor', preprocessor),\n",
        "        ('model', model)\n",
        "    ])\n",
        "    \n",
        "    # Fit the model\n",
        "    model_pipeline.fit(X_train, y_train)\n",
        "    \n",
        "    # Make predictions on the test data\n",
        "    y_pred = model_pipeline.predict(X_test)\n",
        "    \n",
        "    # Evaluate the model using MSE, R-squared, MAE\n",
        "    rmse = mean_squared_error(y_test, y_pred)\n",
        "    mae = mean_absolute_error(y_test, y_pred)\n",
        "    r2 = r2_score(y_test, y_pred)\n",
        "    \n",
        "    # Store the results\n",
        "    rmse_results[model_name] = rmse\n",
        "    mae_results[model_name] = mae\n",
        "    r2score_results[model_name] = r2\n",
        "    \n",
        "    print(\"Model :\", model_name)\n",
        "    print(f\"RMSE : {rmse:.2f}\")\n",
        "    print(f\"MAE : {mae:.2f}\")\n",
        "    print(f\"r2 : {r2:.2f}\")\n",
        "    print(\"--------\")\n",
        "\n"
      ],
      "outputs": [
        {
          "output_type": "stream",
          "name": "stdout",
          "text": "Model : Linear Regression\nRMSE : 290486.11\nMAE : 298.83\nr2 : 0.41\n--------\nModel : Decision Tree\nRMSE : 274581.52\nMAE : 175.47\nr2 : 0.44\n--------\nModel : Random Forest\nRMSE : 200482.72\nMAE : 150.14\nr2 : 0.59\n--------\n"
        }
      ],
      "execution_count": 37,
      "metadata": {
        "jupyter": {
          "source_hidden": false,
          "outputs_hidden": false
        },
        "nteract": {
          "transient": {
            "deleting": false
          }
        },
        "gather": {
          "logged": 1729439453857
        }
      }
    },
    {
      "cell_type": "code",
      "source": [],
      "outputs": [],
      "execution_count": null,
      "metadata": {
        "jupyter": {
          "source_hidden": false,
          "outputs_hidden": false
        },
        "nteract": {
          "transient": {
            "deleting": false
          }
        }
      }
    }
  ],
  "metadata": {
    "kernelspec": {
      "name": "python310-sdkv2",
      "language": "python",
      "display_name": "Python 3.10 - SDK v2"
    },
    "language_info": {
      "name": "python",
      "version": "3.10.14",
      "mimetype": "text/x-python",
      "codemirror_mode": {
        "name": "ipython",
        "version": 3
      },
      "pygments_lexer": "ipython3",
      "nbconvert_exporter": "python",
      "file_extension": ".py"
    },
    "microsoft": {
      "ms_spell_check": {
        "ms_spell_check_language": "en"
      },
      "host": {
        "AzureML": {
          "notebookHasBeenCompleted": true
        }
      }
    },
    "kernel_info": {
      "name": "python310-sdkv2"
    },
    "nteract": {
      "version": "nteract-front-end@1.0.0"
    }
  },
  "nbformat": 4,
  "nbformat_minor": 2
}